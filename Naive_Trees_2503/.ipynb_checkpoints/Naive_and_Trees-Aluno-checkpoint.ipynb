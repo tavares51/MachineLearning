{
 "cells": [
  {
   "cell_type": "markdown",
   "id": "684938ab",
   "metadata": {},
   "source": [
    "# <center> <img src=\"figs/logo_facens.png\" alt=\"Logo Facens\" width=\"110\" align=\"left\"/>  <br/> <center>Facens<br/>\n",
    "</p>\n",
    "\n",
    "<br/>\n",
    "  \n",
    "<font size=\"3\"><center>Prof. Julio Cesar Mastrodomenico</center></font>\n",
    "\n",
    "\n",
    "\n",
    "\n",
    "# Aprendizado de Máquinas\n",
    "### 2022PGS2M1\n",
    "----\n",
    "\n",
    "## Naive Bayes\n",
    "\n",
    "Implementação e utilização do algoritimo Naive Bayes\n",
    "\n",
    "$$ P(y_j|\\vec{x}) = \\hat{P}(y_{j}) \\prod_{x_i \\in \\vec{x}} \\hat{P}(x_{i} | y_{j}) $$\n",
    "\n",
    "Banco de dados:\n",
    "- Social_Network_Ads.csv\n",
    "- Atrib_dataset.csv\n",
    "- spam.csv\n",
    "- titanic.csv\n",
    "\n",
    "\n",
    "### Exercícios"
   ]
  },
  {
   "cell_type": "code",
   "execution_count": 1,
   "id": "076b40ad",
   "metadata": {},
   "outputs": [
    {
     "name": "stdout",
     "output_type": "stream",
     "text": [
      "Dados carregados com sucesso!\n"
     ]
    }
   ],
   "source": [
    "# Exemplo de implementação\n",
    "\n",
    "import numpy as np\n",
    "import pandas as pd\n",
    "import seaborn as sns\n",
    "import matplotlib.pyplot as plt\n",
    "\n",
    "# Importa o arquivo e guarda em um dataframe do Pandas\n",
    "df_dataset = pd.read_csv('datasets/Atrib_dataset.csv', sep=',', index_col=None)\n",
    "\n",
    "print('Dados carregados com sucesso!')"
   ]
  },
  {
   "cell_type": "code",
   "execution_count": 2,
   "id": "1354ed4b",
   "metadata": {},
   "outputs": [
    {
     "data": {
      "text/html": [
       "<div>\n",
       "<style scoped>\n",
       "    .dataframe tbody tr th:only-of-type {\n",
       "        vertical-align: middle;\n",
       "    }\n",
       "\n",
       "    .dataframe tbody tr th {\n",
       "        vertical-align: top;\n",
       "    }\n",
       "\n",
       "    .dataframe thead th {\n",
       "        text-align: right;\n",
       "    }\n",
       "</style>\n",
       "<table border=\"1\" class=\"dataframe\">\n",
       "  <thead>\n",
       "    <tr style=\"text-align: right;\">\n",
       "      <th></th>\n",
       "      <th>Atrib1</th>\n",
       "      <th>Atrib2</th>\n",
       "      <th>Atrib3</th>\n",
       "      <th>Atrib4</th>\n",
       "      <th>Atrib5</th>\n",
       "      <th>Classe</th>\n",
       "    </tr>\n",
       "  </thead>\n",
       "  <tbody>\n",
       "    <tr>\n",
       "      <th>0</th>\n",
       "      <td>0</td>\n",
       "      <td>0</td>\n",
       "      <td>1</td>\n",
       "      <td>1</td>\n",
       "      <td>0</td>\n",
       "      <td>0</td>\n",
       "    </tr>\n",
       "    <tr>\n",
       "      <th>1</th>\n",
       "      <td>0</td>\n",
       "      <td>1</td>\n",
       "      <td>1</td>\n",
       "      <td>0</td>\n",
       "      <td>1</td>\n",
       "      <td>1</td>\n",
       "    </tr>\n",
       "    <tr>\n",
       "      <th>2</th>\n",
       "      <td>1</td>\n",
       "      <td>1</td>\n",
       "      <td>1</td>\n",
       "      <td>0</td>\n",
       "      <td>0</td>\n",
       "      <td>1</td>\n",
       "    </tr>\n",
       "    <tr>\n",
       "      <th>3</th>\n",
       "      <td>0</td>\n",
       "      <td>0</td>\n",
       "      <td>0</td>\n",
       "      <td>0</td>\n",
       "      <td>0</td>\n",
       "      <td>0</td>\n",
       "    </tr>\n",
       "    <tr>\n",
       "      <th>4</th>\n",
       "      <td>1</td>\n",
       "      <td>1</td>\n",
       "      <td>1</td>\n",
       "      <td>0</td>\n",
       "      <td>1</td>\n",
       "      <td>1</td>\n",
       "    </tr>\n",
       "    <tr>\n",
       "      <th>5</th>\n",
       "      <td>0</td>\n",
       "      <td>1</td>\n",
       "      <td>1</td>\n",
       "      <td>1</td>\n",
       "      <td>0</td>\n",
       "      <td>1</td>\n",
       "    </tr>\n",
       "  </tbody>\n",
       "</table>\n",
       "</div>"
      ],
      "text/plain": [
       "   Atrib1  Atrib2  Atrib3  Atrib4  Atrib5  Classe\n",
       "0       0       0       1       1       0       0\n",
       "1       0       1       1       0       1       1\n",
       "2       1       1       1       0       0       1\n",
       "3       0       0       0       0       0       0\n",
       "4       1       1       1       0       1       1\n",
       "5       0       1       1       1       0       1"
      ]
     },
     "execution_count": 2,
     "metadata": {},
     "output_type": "execute_result"
    }
   ],
   "source": [
    "# Visualização das 6 primeiras linhas do nosso dataset\n",
    "df_dataset.head(n=6)"
   ]
  },
  {
   "cell_type": "code",
   "execution_count": 3,
   "id": "12a32c16",
   "metadata": {},
   "outputs": [
    {
     "name": "stdout",
     "output_type": "stream",
     "text": [
      "X: [[0 0 1 1 0]\n",
      " [0 1 1 0 1]\n",
      " [1 1 1 0 0]\n",
      " [0 0 0 0 0]\n",
      " [1 1 1 0 1]]\n",
      "Y: [0 1 1 0 1]\n"
     ]
    }
   ],
   "source": [
    "# pega os valores das n-1 primeiras colunas e guarda em uma matrix X\n",
    "X = df_dataset.iloc[:, 0:-1].values\n",
    "\n",
    "# pega os valores da última coluna e guarda em um vetor Y\n",
    "Y = df_dataset.iloc[:, -1].values\n",
    "\n",
    "# imprime as 5 primeiras linhas da matriz X\n",
    "print('X:', X[0:5,:])\n",
    "\n",
    "# imprime os 5 primeiros valores de Y\n",
    "print('Y:', Y[0:5])"
   ]
  },
  {
   "cell_type": "code",
   "execution_count": 4,
   "id": "69a0233c",
   "metadata": {},
   "outputs": [
    {
     "name": "stdout",
     "output_type": "stream",
     "text": [
      "Probabilidade da classe ser 1 (Positivo): 54.00%\n",
      "Probabilidade da classe ser 0 (Negativo): 46.00%\n"
     ]
    }
   ],
   "source": [
    "# Probabilidade das Classes\n",
    "pPositivo = sum(Y==1)/len(Y)\n",
    "pNegativo = sum(Y==0)/len(Y)\n",
    "\n",
    "print('Probabilidade da classe ser 1 (Positivo): %1.2f%%' %(pPositivo*100))\n",
    "print('Probabilidade da classe ser 0 (Negativo): %1.2f%%' %(pNegativo*100))"
   ]
  },
  {
   "cell_type": "code",
   "execution_count": 5,
   "id": "16b1a715",
   "metadata": {},
   "outputs": [
    {
     "name": "stdout",
     "output_type": "stream",
     "text": [
      "A probabilidade esperada para P(Atributo1=1|Classe=1) = 52.96%\n"
     ]
    }
   ],
   "source": [
    "def calcular_probabilidades(X, Y):\n",
    "    \"\"\"\n",
    "    CALCULARPROBABILIDADES Computa a probabilidade de ocorrencia de cada \n",
    "    atributo por rotulo possivel. A funcao retorna dois vetores de tamanho n\n",
    "    (qtde de atributos), um para cada classe.\n",
    "    \n",
    "    CALCULARPROBABILIDADES(X, Y) calcula a probabilidade de ocorrencia de cada atributo em cada classe. \n",
    "    Cada vetor de saida tem dimensao (n x 1), sendo n a quantidade de atributos por amostra.\n",
    "    \"\"\"\n",
    "    \n",
    "    #  inicializa os vetores de probabilidades\n",
    "    pAtrPositivo = np.zeros(X.shape[1])\n",
    "    pAtrNegativo = np.zeros(X.shape[1])\n",
    "\n",
    "    for i in range(len(X[0])):\n",
    "        pAtrPositivo[i] = sum(Y[np.where(X[:,i]==1)]==1)/sum(Y==1)\n",
    "        pAtrNegativo[i] = sum(Y[np.where(X[:,i]==1)]==0)/sum(Y==0)    \n",
    "    \n",
    "    ##########################################################################\n",
    "\n",
    "    return pAtrPositivo, pAtrNegativo\n",
    "\n",
    "pAtrPositivo, pAtrNegativo = calcular_probabilidades(X,Y)\n",
    "\n",
    "print('A probabilidade esperada para P(Atributo1=1|Classe=1) = %.2f%%' %(pAtrPositivo[0]*100))"
   ]
  },
  {
   "cell_type": "code",
   "execution_count": 6,
   "id": "aec65ca5",
   "metadata": {},
   "outputs": [
    {
     "name": "stdout",
     "output_type": "stream",
     "text": [
      "Acuracia obtida pelo seu classificador foi = 76.60%\n",
      "\n"
     ]
    }
   ],
   "source": [
    "def classificacao(x,pPositivo,pNegativo,pAtrPositivo,pAtrNegativo):\n",
    "    \"\"\"\n",
    "    Classifica se a entrada x pertence a classe 0 ou 1 usando\n",
    "    as probabilidades extraidas da base de treinamento. Essa funcao \n",
    "    estima a predicao de x atraves da maior probabilidade da amostra  \n",
    "    pertencer a classe 1 ou 0. Tambem retorna as probabilidades condicionais\n",
    "    de positivo e negativo, respectivamente.\n",
    "    \n",
    "    \"\"\"\n",
    "\n",
    "    #  inicializa a classe e as probabilidades condicionais\n",
    "    classe = 0;\n",
    "    probPositivo= 0;\n",
    "    probNegativo = 0;\n",
    "    \n",
    "    probPositivo = np.prod(abs((1-x)-pAtrPositivo))*pPositivo\n",
    "    probNegativo = np.prod(abs((1-x)-pAtrNegativo))*pNegativo\n",
    "         \n",
    "    if probPositivo>probNegativo:\n",
    "        classe = 1\n",
    "    else:\n",
    "        classe = 0\n",
    "\n",
    "    ########################################################################## \n",
    "\n",
    "    return classe, probPositivo, probNegativo \n",
    "\n",
    "resultados = np.zeros( X.shape[0] )\n",
    "\n",
    "for i in range(X.shape[0]):\n",
    "    resultados[i], probPositivo, probNegativo = classificacao(X[i,:],pPositivo,pNegativo,pAtrPositivo,pAtrNegativo)\n",
    "\n",
    "# calcular acuracia\n",
    "acuracia = np.sum(resultados==Y)/len(Y)\n",
    "\n",
    "print('Acuracia obtida pelo seu classificador foi = %.2f%%\\n' %( acuracia*100 ) )"
   ]
  },
  {
   "cell_type": "code",
   "execution_count": 7,
   "id": "2d69c479",
   "metadata": {},
   "outputs": [
    {
     "name": "stdout",
     "output_type": "stream",
     "text": [
      "\n",
      ">>> Predicao = Positivo!\n",
      "\n",
      ">>>>>> Prob. Positivo = 0.019366!\n",
      "\n",
      ">>>>>> Prob. Negativo = 0.009483!\n",
      "\n",
      "\n"
     ]
    }
   ],
   "source": [
    "# Depois do modelo treinado, neste caso com as probabilidades calculadas, podemos\n",
    "# predizer para um novo valor, seja ele x1_novo\n",
    "x1_novo = np.array([0,1,0,1,1])\n",
    "\n",
    "classe, probPositivo, probNegativo = classificacao(x1_novo, pPositivo, pNegativo, pAtrPositivo, pAtrNegativo)\n",
    "\n",
    "if classe ==1:\n",
    "    print('\\n>>> Predicao = Positivo!')       \n",
    "else:\n",
    "    print('\\n>>> Predicao = Negativo!')\n",
    "\n",
    "print('\\n>>>>>> Prob. Positivo = %0.6f!' %(probPositivo))\n",
    "print('\\n>>>>>> Prob. Negativo = %0.6f!\\n\\n'  %(probNegativo))"
   ]
  },
  {
   "cell_type": "markdown",
   "id": "0e4f3464",
   "metadata": {},
   "source": [
    "## Gaussian Naive Bayes\n",
    "\n",
    "<img src=\"figs/gau_pdf.png\" alt=\"Gaussian Probability Density Function\" width=\"450\" align=\"center\"/>"
   ]
  },
  {
   "cell_type": "code",
   "execution_count": null,
   "id": "5127addb",
   "metadata": {},
   "outputs": [],
   "source": []
  },
  {
   "cell_type": "code",
   "execution_count": null,
   "id": "d8d52019",
   "metadata": {},
   "outputs": [],
   "source": []
  },
  {
   "cell_type": "code",
   "execution_count": null,
   "id": "25094d5e",
   "metadata": {},
   "outputs": [],
   "source": []
  },
  {
   "cell_type": "code",
   "execution_count": null,
   "id": "ce38ff17",
   "metadata": {},
   "outputs": [],
   "source": []
  },
  {
   "cell_type": "code",
   "execution_count": null,
   "id": "f5cff3ec",
   "metadata": {},
   "outputs": [],
   "source": []
  },
  {
   "cell_type": "markdown",
   "id": "c57288b5",
   "metadata": {},
   "source": [
    "### Usando a biblioteca do Sklearn"
   ]
  },
  {
   "cell_type": "code",
   "execution_count": 8,
   "id": "7bf24c66",
   "metadata": {},
   "outputs": [
    {
     "data": {
      "text/html": [
       "<div>\n",
       "<style scoped>\n",
       "    .dataframe tbody tr th:only-of-type {\n",
       "        vertical-align: middle;\n",
       "    }\n",
       "\n",
       "    .dataframe tbody tr th {\n",
       "        vertical-align: top;\n",
       "    }\n",
       "\n",
       "    .dataframe thead th {\n",
       "        text-align: right;\n",
       "    }\n",
       "</style>\n",
       "<table border=\"1\" class=\"dataframe\">\n",
       "  <thead>\n",
       "    <tr style=\"text-align: right;\">\n",
       "      <th></th>\n",
       "      <th>Atrib1</th>\n",
       "      <th>Atrib2</th>\n",
       "      <th>Atrib3</th>\n",
       "      <th>Atrib4</th>\n",
       "      <th>Atrib5</th>\n",
       "      <th>Classe</th>\n",
       "    </tr>\n",
       "  </thead>\n",
       "  <tbody>\n",
       "    <tr>\n",
       "      <th>0</th>\n",
       "      <td>0</td>\n",
       "      <td>0</td>\n",
       "      <td>1</td>\n",
       "      <td>1</td>\n",
       "      <td>0</td>\n",
       "      <td>0</td>\n",
       "    </tr>\n",
       "    <tr>\n",
       "      <th>1</th>\n",
       "      <td>0</td>\n",
       "      <td>1</td>\n",
       "      <td>1</td>\n",
       "      <td>0</td>\n",
       "      <td>1</td>\n",
       "      <td>1</td>\n",
       "    </tr>\n",
       "    <tr>\n",
       "      <th>2</th>\n",
       "      <td>1</td>\n",
       "      <td>1</td>\n",
       "      <td>1</td>\n",
       "      <td>0</td>\n",
       "      <td>0</td>\n",
       "      <td>1</td>\n",
       "    </tr>\n",
       "    <tr>\n",
       "      <th>3</th>\n",
       "      <td>0</td>\n",
       "      <td>0</td>\n",
       "      <td>0</td>\n",
       "      <td>0</td>\n",
       "      <td>0</td>\n",
       "      <td>0</td>\n",
       "    </tr>\n",
       "    <tr>\n",
       "      <th>4</th>\n",
       "      <td>1</td>\n",
       "      <td>1</td>\n",
       "      <td>1</td>\n",
       "      <td>0</td>\n",
       "      <td>1</td>\n",
       "      <td>1</td>\n",
       "    </tr>\n",
       "    <tr>\n",
       "      <th>...</th>\n",
       "      <td>...</td>\n",
       "      <td>...</td>\n",
       "      <td>...</td>\n",
       "      <td>...</td>\n",
       "      <td>...</td>\n",
       "      <td>...</td>\n",
       "    </tr>\n",
       "    <tr>\n",
       "      <th>495</th>\n",
       "      <td>1</td>\n",
       "      <td>1</td>\n",
       "      <td>0</td>\n",
       "      <td>0</td>\n",
       "      <td>1</td>\n",
       "      <td>1</td>\n",
       "    </tr>\n",
       "    <tr>\n",
       "      <th>496</th>\n",
       "      <td>1</td>\n",
       "      <td>0</td>\n",
       "      <td>0</td>\n",
       "      <td>1</td>\n",
       "      <td>1</td>\n",
       "      <td>1</td>\n",
       "    </tr>\n",
       "    <tr>\n",
       "      <th>497</th>\n",
       "      <td>0</td>\n",
       "      <td>1</td>\n",
       "      <td>1</td>\n",
       "      <td>1</td>\n",
       "      <td>0</td>\n",
       "      <td>0</td>\n",
       "    </tr>\n",
       "    <tr>\n",
       "      <th>498</th>\n",
       "      <td>1</td>\n",
       "      <td>0</td>\n",
       "      <td>1</td>\n",
       "      <td>1</td>\n",
       "      <td>1</td>\n",
       "      <td>0</td>\n",
       "    </tr>\n",
       "    <tr>\n",
       "      <th>499</th>\n",
       "      <td>0</td>\n",
       "      <td>1</td>\n",
       "      <td>0</td>\n",
       "      <td>1</td>\n",
       "      <td>0</td>\n",
       "      <td>1</td>\n",
       "    </tr>\n",
       "  </tbody>\n",
       "</table>\n",
       "<p>500 rows × 6 columns</p>\n",
       "</div>"
      ],
      "text/plain": [
       "     Atrib1  Atrib2  Atrib3  Atrib4  Atrib5  Classe\n",
       "0         0       0       1       1       0       0\n",
       "1         0       1       1       0       1       1\n",
       "2         1       1       1       0       0       1\n",
       "3         0       0       0       0       0       0\n",
       "4         1       1       1       0       1       1\n",
       "..      ...     ...     ...     ...     ...     ...\n",
       "495       1       1       0       0       1       1\n",
       "496       1       0       0       1       1       1\n",
       "497       0       1       1       1       0       0\n",
       "498       1       0       1       1       1       0\n",
       "499       0       1       0       1       0       1\n",
       "\n",
       "[500 rows x 6 columns]"
      ]
     },
     "execution_count": 8,
     "metadata": {},
     "output_type": "execute_result"
    }
   ],
   "source": [
    "df_dataset"
   ]
  },
  {
   "cell_type": "code",
   "execution_count": 34,
   "id": "ab4f8128",
   "metadata": {},
   "outputs": [],
   "source": [
    "from sklearn.model_selection import train_test_split"
   ]
  },
  {
   "cell_type": "code",
   "execution_count": 9,
   "id": "8e8eb2d0",
   "metadata": {},
   "outputs": [],
   "source": [
    "# Vamos realizar a divisão do dataset, em treino e teste (validação)\n"
   ]
  },
  {
   "cell_type": "code",
   "execution_count": 2,
   "id": "0d92da5e",
   "metadata": {},
   "outputs": [],
   "source": [
    "# Utilizando a Gaussian Naive Bayes\n",
    "from sklearn.naive_bayes import BernoulliNB\n",
    "\n",
    "# Instanciando a classe\n",
    "\n",
    "\n",
    "# Realizando o fit, que nada mais é que o treino\n",
    "# do nosso algoritimo\n"
   ]
  },
  {
   "cell_type": "code",
   "execution_count": 11,
   "id": "131be0de",
   "metadata": {},
   "outputs": [],
   "source": [
    "# Predizendo a classe do novo valor\n"
   ]
  },
  {
   "cell_type": "code",
   "execution_count": null,
   "id": "5d2ec140",
   "metadata": {},
   "outputs": [],
   "source": []
  },
  {
   "cell_type": "code",
   "execution_count": 12,
   "id": "eee57539",
   "metadata": {},
   "outputs": [],
   "source": [
    "# Realizando o predict do X_test com todos os valores\n"
   ]
  },
  {
   "cell_type": "code",
   "execution_count": null,
   "id": "6a9b238c",
   "metadata": {},
   "outputs": [],
   "source": []
  },
  {
   "cell_type": "code",
   "execution_count": null,
   "id": "b3c49f1f",
   "metadata": {},
   "outputs": [],
   "source": []
  },
  {
   "cell_type": "code",
   "execution_count": 13,
   "id": "0b952314",
   "metadata": {},
   "outputs": [],
   "source": [
    "# Importando algumas métricas do sklearn\n",
    "from sklearn.metrics import confusion_matrix, accuracy_score\n",
    "\n",
    "# Matriz de Confusão\n"
   ]
  },
  {
   "cell_type": "markdown",
   "id": "adda556e",
   "metadata": {},
   "source": [
    "## Métricas:\n",
    "\n",
    "- Matriz de Confusão\n",
    "\n",
    "<img src=\"figs/cm_wiki.png\" width=\"250\" height=\"250\" />\n",
    "\n",
    "\n",
    "- Acurácia\n",
    "\n",
    "<img src=\"figs/acu_wiki.png\" width=\"300\" height=\"300\" />\n",
    "\n",
    "\n",
    "- Precisão\n",
    "\n",
    "<img src=\"figs/precision.png\" width=\"200\" height=\"200\" />\n",
    "\n",
    "\n",
    "- recall\n",
    "\n",
    "<img src=\"figs/recall.png\" width=\"200\" height=\"200\" />\n",
    "\n",
    "\n",
    "- Precisão / Recall\n",
    "\n",
    "<img src=\"figs/Precisionrecall_img.png\" width=\"300\" height=\"300\" />\n",
    "\n",
    "\n",
    "- F-Beta Score\n",
    "\n",
    "<img src=\"figs/f_score.png\" width=\"200\" height=\"200\" />\n",
    "\n"
   ]
  },
  {
   "cell_type": "markdown",
   "id": "bc181eaa",
   "metadata": {},
   "source": [
    "### Utilizando e visualizando com o Social Ads dataset"
   ]
  },
  {
   "cell_type": "code",
   "execution_count": 71,
   "id": "71802cf9",
   "metadata": {},
   "outputs": [],
   "source": [
    "# Importando o dataset e separando as variáveis\n",
    "dataset = pd.read_csv('datasets/Social_Network_Ads.csv')\n",
    "X = dataset.iloc[:, :-1].values\n",
    "y = dataset.iloc[:, -1].values"
   ]
  },
  {
   "cell_type": "code",
   "execution_count": 14,
   "id": "cb68dd5a",
   "metadata": {},
   "outputs": [],
   "source": [
    "# Realizando o split do dataset\n"
   ]
  },
  {
   "cell_type": "code",
   "execution_count": 15,
   "id": "e860c5e0",
   "metadata": {},
   "outputs": [],
   "source": [
    "# Vamos ver o que temos na variável X_train\n"
   ]
  },
  {
   "cell_type": "code",
   "execution_count": 16,
   "id": "bf705cc9",
   "metadata": {},
   "outputs": [],
   "source": [
    "# Vamos observar a distribuição\n"
   ]
  },
  {
   "cell_type": "code",
   "execution_count": 17,
   "id": "e21d2f29",
   "metadata": {},
   "outputs": [],
   "source": [
    "# Vamos observar a distribuição\n"
   ]
  },
  {
   "cell_type": "code",
   "execution_count": 18,
   "id": "41b22ed4",
   "metadata": {},
   "outputs": [],
   "source": [
    "# Vamos realizar uma normalização devido a grande diferença nas grandezas\n",
    "# Utilizaremos a biblioteca sklearn e a função StandardScaler\n",
    "from sklearn.preprocessing import StandardScaler\n",
    "\n",
    "# Instanciamos ela\n",
    "\n",
    "\n",
    "# Para utilizar precisamos realizar um fit e um transform, para que realize o calculo de normalização\n",
    "# e aplique no X_train\n",
    "\n",
    "\n",
    "# Posteriormente, só aplicamos no X_test\n"
   ]
  },
  {
   "cell_type": "code",
   "execution_count": 19,
   "id": "7c3ab1d0",
   "metadata": {},
   "outputs": [],
   "source": [
    "# Observando novamente a variável\n"
   ]
  },
  {
   "cell_type": "code",
   "execution_count": 20,
   "id": "9a997ad7",
   "metadata": {},
   "outputs": [],
   "source": [
    "# Vamos observar a distribuição\n"
   ]
  },
  {
   "cell_type": "code",
   "execution_count": 21,
   "id": "4316eff0",
   "metadata": {},
   "outputs": [],
   "source": [
    "# Vamos treinar utilizando o GaussianNB novamente\n",
    "# Instanciando\n",
    "\n",
    "\n",
    "# Treinando\n"
   ]
  },
  {
   "cell_type": "code",
   "execution_count": 22,
   "id": "742e4ff0",
   "metadata": {},
   "outputs": [],
   "source": [
    "# Com o algoritimo treinado, podemos predizer novos valores\n",
    "# Como por exemplo, uma pessoa de 30 anos, com salario de 87000, compraria?\n",
    "\n",
    "# Para tal, precisamos transformar o valor para dentro da normalização e dai predizer\n"
   ]
  },
  {
   "cell_type": "code",
   "execution_count": 23,
   "id": "47261815",
   "metadata": {},
   "outputs": [],
   "source": [
    "# Verificando a métrica final, com o resultado do X_test\n"
   ]
  },
  {
   "cell_type": "code",
   "execution_count": null,
   "id": "850589c4",
   "metadata": {},
   "outputs": [],
   "source": []
  },
  {
   "cell_type": "code",
   "execution_count": 24,
   "id": "7c4bf1c9",
   "metadata": {},
   "outputs": [],
   "source": [
    "# Podemos visualizar também a matriz de confusão como um heatmap\n"
   ]
  },
  {
   "cell_type": "markdown",
   "id": "7b6df159",
   "metadata": {},
   "source": [
    "### Vamos visualizar os resultados do treinamento e do teste"
   ]
  },
  {
   "cell_type": "code",
   "execution_count": 58,
   "id": "f119a507",
   "metadata": {},
   "outputs": [
    {
     "name": "stderr",
     "output_type": "stream",
     "text": [
      "*c* argument looks like a single numeric RGB or RGBA sequence, which should be avoided as value-mapping will have precedence in case its length matches with *x* & *y*.  Please use the *color* keyword-argument or provide a 2-D array with a single row if you intend to specify the same RGB or RGBA value for all points.\n",
      "*c* argument looks like a single numeric RGB or RGBA sequence, which should be avoided as value-mapping will have precedence in case its length matches with *x* & *y*.  Please use the *color* keyword-argument or provide a 2-D array with a single row if you intend to specify the same RGB or RGBA value for all points.\n"
     ]
    },
    {
     "data": {
      "image/png": "[encoded data removed]",
      "text/plain": [
       "<Figure size 432x288 with 1 Axes>"
      ]
     },
     "metadata": {
      "needs_background": "light"
     },
     "output_type": "display_data"
    }
   ],
   "source": [
    "from matplotlib.colors import ListedColormap\n",
    "X_set, y_set = sc.inverse_transform(X_train), y_train\n",
    "X1, X2 = np.meshgrid(np.arange(start = X_set[:, 0].min() - 10, stop = X_set[:, 0].max() + 10, step = 0.25),\n",
    "                     np.arange(start = X_set[:, 1].min() - 1000, stop = X_set[:, 1].max() + 1000, step = 0.25))\n",
    "plt.contourf(X1, X2, classifier.predict(sc.transform(np.array([X1.ravel(), X2.ravel()]).T)).reshape(X1.shape),\n",
    "             alpha = 0.75, cmap = ListedColormap(('red', 'green')))\n",
    "plt.xlim(X1.min(), X1.max())\n",
    "plt.ylim(X2.min(), X2.max())\n",
    "for i, j in enumerate(np.unique(y_set)):\n",
    "    plt.scatter(X_set[y_set == j, 0], X_set[y_set == j, 1], c = ListedColormap(('red', 'green'))(i), label = j)\n",
    "plt.title('Naive Bayes (Training set)')\n",
    "plt.xlabel('Age')\n",
    "plt.ylabel('Estimated Salary')\n",
    "plt.legend()\n",
    "plt.show()"
   ]
  },
  {
   "cell_type": "markdown",
   "id": "7bfa7c22",
   "metadata": {},
   "source": [
    "### Teste"
   ]
  },
  {
   "cell_type": "code",
   "execution_count": 59,
   "id": "aa2e7525",
   "metadata": {},
   "outputs": [
    {
     "name": "stderr",
     "output_type": "stream",
     "text": [
      "*c* argument looks like a single numeric RGB or RGBA sequence, which should be avoided as value-mapping will have precedence in case its length matches with *x* & *y*.  Please use the *color* keyword-argument or provide a 2-D array with a single row if you intend to specify the same RGB or RGBA value for all points.\n",
      "*c* argument looks like a single numeric RGB or RGBA sequence, which should be avoided as value-mapping will have precedence in case its length matches with *x* & *y*.  Please use the *color* keyword-argument or provide a 2-D array with a single row if you intend to specify the same RGB or RGBA value for all points.\n"
     ]
    },
    {
     "data": {
      "image/png": "[encoded data removed]",
      "text/plain": [
       "<Figure size 432x288 with 1 Axes>"
      ]
     },
     "metadata": {
      "needs_background": "light"
     },
     "output_type": "display_data"
    }
   ],
   "source": [
    "from matplotlib.colors import ListedColormap\n",
    "X_set, y_set = sc.inverse_transform(X_test), y_test\n",
    "X1, X2 = np.meshgrid(np.arange(start = X_set[:, 0].min() - 10, stop = X_set[:, 0].max() + 10, step = 0.25),\n",
    "                     np.arange(start = X_set[:, 1].min() - 1000, stop = X_set[:, 1].max() + 1000, step = 0.25))\n",
    "plt.contourf(X1, X2, classifier.predict(sc.transform(np.array([X1.ravel(), X2.ravel()]).T)).reshape(X1.shape),\n",
    "             alpha = 0.75, cmap = ListedColormap(('red', 'green')))\n",
    "plt.xlim(X1.min(), X1.max())\n",
    "plt.ylim(X2.min(), X2.max())\n",
    "for i, j in enumerate(np.unique(y_set)):\n",
    "    plt.scatter(X_set[y_set == j, 0], X_set[y_set == j, 1], c = ListedColormap(('red', 'green'))(i), label = j)\n",
    "plt.title('Naive Bayes (Test set)')\n",
    "plt.xlabel('Age')\n",
    "plt.ylabel('Estimated Salary')\n",
    "plt.legend()\n",
    "plt.show()"
   ]
  },
  {
   "cell_type": "markdown",
   "id": "5d40c4f4",
   "metadata": {},
   "source": [
    "### Utilizando o dataset \"Spam\", aqui é necessária uma outra biblioteca para trabalhar a questão do texto"
   ]
  },
  {
   "cell_type": "code",
   "execution_count": 86,
   "id": "101b493b",
   "metadata": {},
   "outputs": [
    {
     "data": {
      "text/html": [
       "<div>\n",
       "<style scoped>\n",
       "    .dataframe tbody tr th:only-of-type {\n",
       "        vertical-align: middle;\n",
       "    }\n",
       "\n",
       "    .dataframe tbody tr th {\n",
       "        vertical-align: top;\n",
       "    }\n",
       "\n",
       "    .dataframe thead th {\n",
       "        text-align: right;\n",
       "    }\n",
       "</style>\n",
       "<table border=\"1\" class=\"dataframe\">\n",
       "  <thead>\n",
       "    <tr style=\"text-align: right;\">\n",
       "      <th></th>\n",
       "      <th>Category</th>\n",
       "      <th>Message</th>\n",
       "    </tr>\n",
       "  </thead>\n",
       "  <tbody>\n",
       "    <tr>\n",
       "      <th>0</th>\n",
       "      <td>ham</td>\n",
       "      <td>Go until jurong point, crazy.. Available only ...</td>\n",
       "    </tr>\n",
       "    <tr>\n",
       "      <th>1</th>\n",
       "      <td>ham</td>\n",
       "      <td>Ok lar... Joking wif u oni...</td>\n",
       "    </tr>\n",
       "    <tr>\n",
       "      <th>2</th>\n",
       "      <td>spam</td>\n",
       "      <td>Free entry in 2 a wkly comp to win FA Cup fina...</td>\n",
       "    </tr>\n",
       "    <tr>\n",
       "      <th>3</th>\n",
       "      <td>ham</td>\n",
       "      <td>U dun say so early hor... U c already then say...</td>\n",
       "    </tr>\n",
       "    <tr>\n",
       "      <th>4</th>\n",
       "      <td>ham</td>\n",
       "      <td>Nah I don't think he goes to usf, he lives aro...</td>\n",
       "    </tr>\n",
       "  </tbody>\n",
       "</table>\n",
       "</div>"
      ],
      "text/plain": [
       "  Category                                            Message\n",
       "0      ham  Go until jurong point, crazy.. Available only ...\n",
       "1      ham                      Ok lar... Joking wif u oni...\n",
       "2     spam  Free entry in 2 a wkly comp to win FA Cup fina...\n",
       "3      ham  U dun say so early hor... U c already then say...\n",
       "4      ham  Nah I don't think he goes to usf, he lives aro..."
      ]
     },
     "execution_count": 86,
     "metadata": {},
     "output_type": "execute_result"
    }
   ],
   "source": [
    "# Importando o csv para um pandas dataframe\n",
    "df = pd.read_csv(\"datasets/spam.csv\")\n",
    "df.head()"
   ]
  },
  {
   "cell_type": "code",
   "execution_count": 26,
   "id": "bdbee74f",
   "metadata": {},
   "outputs": [],
   "source": [
    "# Convertendo as variáveis categóricas para números\n"
   ]
  },
  {
   "cell_type": "code",
   "execution_count": 27,
   "id": "738bf956",
   "metadata": {},
   "outputs": [],
   "source": [
    "# Realizando o split dos nossos dados\n"
   ]
  },
  {
   "cell_type": "code",
   "execution_count": null,
   "id": "fe3f5574",
   "metadata": {},
   "outputs": [],
   "source": []
  },
  {
   "cell_type": "code",
   "execution_count": null,
   "id": "dabf8a50",
   "metadata": {},
   "outputs": [],
   "source": []
  },
  {
   "cell_type": "code",
   "execution_count": 28,
   "id": "7ba96330",
   "metadata": {},
   "outputs": [],
   "source": [
    "# Aqui a biblioteca sklearn tem uma função chamada CountVectorizer, que transforma a ocorrência de \n",
    "# cada palavra em uma matriz esparsa\n",
    "from sklearn.feature_extraction.text import CountVectorizer\n",
    "\n",
    "# Instanciamos\n",
    "\n",
    "\n",
    "# Realizamos a transformação dos valores, somente as características (X)\n"
   ]
  },
  {
   "cell_type": "code",
   "execution_count": 29,
   "id": "e22f83dc",
   "metadata": {},
   "outputs": [],
   "source": [
    "# Descrição da matriz criada\n"
   ]
  },
  {
   "cell_type": "code",
   "execution_count": 30,
   "id": "93b6c85e",
   "metadata": {},
   "outputs": [],
   "source": [
    "# Observando a dimensão da matriz\n"
   ]
  },
  {
   "cell_type": "code",
   "execution_count": 31,
   "id": "f82b9005",
   "metadata": {},
   "outputs": [],
   "source": [
    "# Para este caso iremos utilizar o Multinomial Naive Bayes\n",
    "from sklearn.naive_bayes import MultinomialNB\n",
    "\n",
    "# Instanciamos nosso modelo\n",
    "\n",
    "\n",
    "# Treinando o modelo\n"
   ]
  },
  {
   "cell_type": "code",
   "execution_count": 32,
   "id": "eb6c7150",
   "metadata": {},
   "outputs": [],
   "source": [
    "# Emails novos para ser predita a classe\n",
    "emails = [\n",
    "    'Hey mohan, can we get together to watch footbal game tomorrow?',\n",
    "    'Upto 20% discount on parking, exclusive offer just for you. Dont miss this reward!'\n",
    "]\n",
    "\n",
    "# Transformação do email em matriz esparsa\n",
    "\n",
    "\n",
    "# Predição\n"
   ]
  },
  {
   "cell_type": "code",
   "execution_count": 33,
   "id": "c5f9417f",
   "metadata": {},
   "outputs": [],
   "source": [
    "# Verificação do score do modelo através da acurácia\n"
   ]
  },
  {
   "cell_type": "code",
   "execution_count": null,
   "id": "e8612c1e",
   "metadata": {},
   "outputs": [],
   "source": []
  },
  {
   "cell_type": "code",
   "execution_count": null,
   "id": "5a68a5ab",
   "metadata": {},
   "outputs": [],
   "source": []
  },
  {
   "cell_type": "code",
   "execution_count": null,
   "id": "8d8b2570",
   "metadata": {},
   "outputs": [],
   "source": []
  },
  {
   "cell_type": "code",
   "execution_count": null,
   "id": "188a7311",
   "metadata": {},
   "outputs": [],
   "source": []
  },
  {
   "cell_type": "code",
   "execution_count": 34,
   "id": "6dc572aa",
   "metadata": {},
   "outputs": [],
   "source": [
    "# Teste da acurácia\n"
   ]
  },
  {
   "cell_type": "markdown",
   "id": "d8523f7f",
   "metadata": {},
   "source": [
    "## Exercício dataset Titanic"
   ]
  },
  {
   "cell_type": "code",
   "execution_count": 35,
   "id": "d74c3353",
   "metadata": {},
   "outputs": [
    {
     "data": {
      "text/html": [
       "<div>\n",
       "<style scoped>\n",
       "    .dataframe tbody tr th:only-of-type {\n",
       "        vertical-align: middle;\n",
       "    }\n",
       "\n",
       "    .dataframe tbody tr th {\n",
       "        vertical-align: top;\n",
       "    }\n",
       "\n",
       "    .dataframe thead th {\n",
       "        text-align: right;\n",
       "    }\n",
       "</style>\n",
       "<table border=\"1\" class=\"dataframe\">\n",
       "  <thead>\n",
       "    <tr style=\"text-align: right;\">\n",
       "      <th></th>\n",
       "      <th>PassengerId</th>\n",
       "      <th>Name</th>\n",
       "      <th>Pclass</th>\n",
       "      <th>Sex</th>\n",
       "      <th>Age</th>\n",
       "      <th>SibSp</th>\n",
       "      <th>Parch</th>\n",
       "      <th>Ticket</th>\n",
       "      <th>Fare</th>\n",
       "      <th>Cabin</th>\n",
       "      <th>Embarked</th>\n",
       "      <th>Survived</th>\n",
       "    </tr>\n",
       "  </thead>\n",
       "  <tbody>\n",
       "    <tr>\n",
       "      <th>0</th>\n",
       "      <td>1</td>\n",
       "      <td>Braund, Mr. Owen Harris</td>\n",
       "      <td>3</td>\n",
       "      <td>male</td>\n",
       "      <td>22.0</td>\n",
       "      <td>1</td>\n",
       "      <td>0</td>\n",
       "      <td>A/5 21171</td>\n",
       "      <td>7.2500</td>\n",
       "      <td>NaN</td>\n",
       "      <td>S</td>\n",
       "      <td>0</td>\n",
       "    </tr>\n",
       "    <tr>\n",
       "      <th>1</th>\n",
       "      <td>2</td>\n",
       "      <td>Cumings, Mrs. John Bradley (Florence Briggs Th...</td>\n",
       "      <td>1</td>\n",
       "      <td>female</td>\n",
       "      <td>38.0</td>\n",
       "      <td>1</td>\n",
       "      <td>0</td>\n",
       "      <td>PC 17599</td>\n",
       "      <td>71.2833</td>\n",
       "      <td>C85</td>\n",
       "      <td>C</td>\n",
       "      <td>1</td>\n",
       "    </tr>\n",
       "    <tr>\n",
       "      <th>2</th>\n",
       "      <td>3</td>\n",
       "      <td>Heikkinen, Miss. Laina</td>\n",
       "      <td>3</td>\n",
       "      <td>female</td>\n",
       "      <td>26.0</td>\n",
       "      <td>0</td>\n",
       "      <td>0</td>\n",
       "      <td>STON/O2. 3101282</td>\n",
       "      <td>7.9250</td>\n",
       "      <td>NaN</td>\n",
       "      <td>S</td>\n",
       "      <td>1</td>\n",
       "    </tr>\n",
       "    <tr>\n",
       "      <th>3</th>\n",
       "      <td>4</td>\n",
       "      <td>Futrelle, Mrs. Jacques Heath (Lily May Peel)</td>\n",
       "      <td>1</td>\n",
       "      <td>female</td>\n",
       "      <td>35.0</td>\n",
       "      <td>1</td>\n",
       "      <td>0</td>\n",
       "      <td>113803</td>\n",
       "      <td>53.1000</td>\n",
       "      <td>C123</td>\n",
       "      <td>S</td>\n",
       "      <td>1</td>\n",
       "    </tr>\n",
       "    <tr>\n",
       "      <th>4</th>\n",
       "      <td>5</td>\n",
       "      <td>Allen, Mr. William Henry</td>\n",
       "      <td>3</td>\n",
       "      <td>male</td>\n",
       "      <td>35.0</td>\n",
       "      <td>0</td>\n",
       "      <td>0</td>\n",
       "      <td>373450</td>\n",
       "      <td>8.0500</td>\n",
       "      <td>NaN</td>\n",
       "      <td>S</td>\n",
       "      <td>0</td>\n",
       "    </tr>\n",
       "  </tbody>\n",
       "</table>\n",
       "</div>"
      ],
      "text/plain": [
       "   PassengerId                                               Name  Pclass  \\\n",
       "0            1                            Braund, Mr. Owen Harris       3   \n",
       "1            2  Cumings, Mrs. John Bradley (Florence Briggs Th...       1   \n",
       "2            3                             Heikkinen, Miss. Laina       3   \n",
       "3            4       Futrelle, Mrs. Jacques Heath (Lily May Peel)       1   \n",
       "4            5                           Allen, Mr. William Henry       3   \n",
       "\n",
       "      Sex   Age  SibSp  Parch            Ticket     Fare Cabin Embarked  \\\n",
       "0    male  22.0      1      0         A/5 21171   7.2500   NaN        S   \n",
       "1  female  38.0      1      0          PC 17599  71.2833   C85        C   \n",
       "2  female  26.0      0      0  STON/O2. 3101282   7.9250   NaN        S   \n",
       "3  female  35.0      1      0            113803  53.1000  C123        S   \n",
       "4    male  35.0      0      0            373450   8.0500   NaN        S   \n",
       "\n",
       "   Survived  \n",
       "0         0  \n",
       "1         1  \n",
       "2         1  \n",
       "3         1  \n",
       "4         0  "
      ]
     },
     "execution_count": 35,
     "metadata": {},
     "output_type": "execute_result"
    }
   ],
   "source": [
    "# Importando o csv para um pandas dataframe\n",
    "df = pd.read_csv(\"datasets/titanic.csv\")\n",
    "df.head()"
   ]
  },
  {
   "cell_type": "code",
   "execution_count": 36,
   "id": "b4e36c62",
   "metadata": {},
   "outputs": [],
   "source": [
    "# Pandas get Dummies\n"
   ]
  },
  {
   "cell_type": "code",
   "execution_count": null,
   "id": "893df4f9",
   "metadata": {},
   "outputs": [],
   "source": []
  },
  {
   "cell_type": "code",
   "execution_count": 37,
   "id": "42dab167",
   "metadata": {},
   "outputs": [],
   "source": [
    "# Novo dataframe com os dummies\n"
   ]
  },
  {
   "cell_type": "code",
   "execution_count": null,
   "id": "c6fbede5",
   "metadata": {},
   "outputs": [],
   "source": []
  },
  {
   "cell_type": "code",
   "execution_count": 38,
   "id": "9150e1ab",
   "metadata": {},
   "outputs": [],
   "source": [
    "# Remoção de colunas não relevantes\n"
   ]
  },
  {
   "cell_type": "code",
   "execution_count": null,
   "id": "cf2b45d3",
   "metadata": {},
   "outputs": [],
   "source": []
  },
  {
   "cell_type": "code",
   "execution_count": 39,
   "id": "ac133b3a",
   "metadata": {},
   "outputs": [],
   "source": [
    "# Visulizando os dados, realizando possíveis transformações\n"
   ]
  },
  {
   "cell_type": "code",
   "execution_count": null,
   "id": "fd5be649",
   "metadata": {},
   "outputs": [],
   "source": []
  },
  {
   "cell_type": "code",
   "execution_count": null,
   "id": "8556812c",
   "metadata": {},
   "outputs": [],
   "source": []
  },
  {
   "cell_type": "code",
   "execution_count": null,
   "id": "ade99c8f",
   "metadata": {},
   "outputs": [],
   "source": []
  },
  {
   "cell_type": "code",
   "execution_count": 154,
   "id": "29ee39a3",
   "metadata": {},
   "outputs": [],
   "source": [
    "# Sklearn LabelEncoder\n",
    "from sklearn.preprocessing import LabelEncoder"
   ]
  },
  {
   "cell_type": "code",
   "execution_count": 40,
   "id": "1d8abd25",
   "metadata": {},
   "outputs": [],
   "source": [
    "# Instanciando o labelEncoder\n"
   ]
  },
  {
   "cell_type": "code",
   "execution_count": null,
   "id": "11eb90ea",
   "metadata": {},
   "outputs": [],
   "source": []
  },
  {
   "cell_type": "code",
   "execution_count": 41,
   "id": "d35bbebd",
   "metadata": {},
   "outputs": [],
   "source": [
    "# Divisão em treino e teste/Validação\n"
   ]
  },
  {
   "cell_type": "code",
   "execution_count": null,
   "id": "3f256dd3",
   "metadata": {},
   "outputs": [],
   "source": []
  },
  {
   "cell_type": "code",
   "execution_count": 42,
   "id": "12df31ee",
   "metadata": {},
   "outputs": [],
   "source": [
    "# Treinando o modelo\n",
    "# Vamos treinar utilizando o GaussianNB novamente\n",
    "# Instanciando\n",
    "\n",
    "\n",
    "# Treinando\n"
   ]
  },
  {
   "cell_type": "code",
   "execution_count": 43,
   "id": "66ea429e",
   "metadata": {},
   "outputs": [],
   "source": [
    "# Medindo o score em relação a uma métrica\n"
   ]
  },
  {
   "cell_type": "code",
   "execution_count": null,
   "id": "3e450722",
   "metadata": {},
   "outputs": [],
   "source": []
  },
  {
   "cell_type": "code",
   "execution_count": 196,
   "id": "c949a281",
   "metadata": {},
   "outputs": [],
   "source": [
    "from sklearn.metrics import classification_report"
   ]
  },
  {
   "cell_type": "code",
   "execution_count": 44,
   "id": "7d0762d6",
   "metadata": {},
   "outputs": [],
   "source": [
    "# Classification report"
   ]
  },
  {
   "cell_type": "markdown",
   "id": "b9417e51",
   "metadata": {},
   "source": [
    "## Exercício dataset Wine ( direto do sklearn )\n",
    "\n",
    "$ from sklearn import datasets\n",
    "\n",
    "$ wine = datasets.load_wine()"
   ]
  },
  {
   "cell_type": "code",
   "execution_count": 191,
   "id": "570c8416",
   "metadata": {},
   "outputs": [],
   "source": [
    "from sklearn import datasets\n",
    "wine = datasets.load_wine(as_frame=True)"
   ]
  },
  {
   "cell_type": "code",
   "execution_count": null,
   "id": "1fdf4327",
   "metadata": {},
   "outputs": [],
   "source": []
  },
  {
   "cell_type": "code",
   "execution_count": null,
   "id": "1ff5ed4a",
   "metadata": {},
   "outputs": [],
   "source": []
  },
  {
   "cell_type": "markdown",
   "id": "05b10c8f",
   "metadata": {},
   "source": [
    "## Árvore de Decisão\n",
    "\n",
    "Vamos utilizar agora o algoritimo da árvore de decisão para resolver os mesmos problemas\n",
    "\n",
    "<img src=\"figs/arvore_dec.png\" width=\"600\" height=\"600\" />\n",
    "\n"
   ]
  },
  {
   "cell_type": "markdown",
   "id": "c1bc1b00",
   "metadata": {},
   "source": [
    "### Exercícios"
   ]
  },
  {
   "cell_type": "code",
   "execution_count": 199,
   "id": "f6429876",
   "metadata": {},
   "outputs": [],
   "source": [
    "# Import do dataset\n",
    "dataset = pd.read_csv('datasets/Social_Network_Ads.csv')\n",
    "X = dataset.iloc[:, :-1].values\n",
    "y = dataset.iloc[:, -1].values"
   ]
  },
  {
   "cell_type": "code",
   "execution_count": 47,
   "id": "83478c83",
   "metadata": {},
   "outputs": [],
   "source": [
    "# Realizando o train test split\n"
   ]
  },
  {
   "cell_type": "code",
   "execution_count": 48,
   "id": "d58d5c45",
   "metadata": {},
   "outputs": [],
   "source": [
    "# Visualizando train, test\n"
   ]
  },
  {
   "cell_type": "code",
   "execution_count": 49,
   "id": "78936928",
   "metadata": {},
   "outputs": [],
   "source": [
    "# Normalizando os dados\n",
    "# Instanciamos ela\n",
    "\n",
    "\n",
    "# Para utilizar precisamos realizar um fit e um transform, para que realize o calculo de normalização\n",
    "# e aplique no X_train\n",
    "\n",
    "\n",
    "# Posteriormente, só aplicamos no X_test\n"
   ]
  },
  {
   "cell_type": "code",
   "execution_count": null,
   "id": "c0769da2",
   "metadata": {
    "scrolled": true
   },
   "outputs": [],
   "source": []
  },
  {
   "cell_type": "code",
   "execution_count": 50,
   "id": "63f8e22c",
   "metadata": {},
   "outputs": [],
   "source": [
    "# Instanciando e treinando a árvore de decisão\n",
    "from sklearn.tree import DecisionTreeClassifier, plot_tree\n"
   ]
  },
  {
   "cell_type": "code",
   "execution_count": 51,
   "id": "ae75856d",
   "metadata": {},
   "outputs": [],
   "source": [
    "# Verificando a metrica\n"
   ]
  },
  {
   "cell_type": "code",
   "execution_count": 52,
   "id": "e8b16d79",
   "metadata": {},
   "outputs": [],
   "source": [
    "# Predict de um novo valor\n",
    "\n",
    "\n",
    "# transform antes do predict\n"
   ]
  },
  {
   "cell_type": "code",
   "execution_count": 53,
   "id": "55d5a76a",
   "metadata": {},
   "outputs": [],
   "source": [
    "# Utilize o Seaborn heatmap para verificar\n"
   ]
  },
  {
   "cell_type": "markdown",
   "id": "5e2da799",
   "metadata": {},
   "source": [
    "## Visualizando os resultados"
   ]
  },
  {
   "cell_type": "code",
   "execution_count": 233,
   "id": "d10081eb",
   "metadata": {},
   "outputs": [
    {
     "name": "stderr",
     "output_type": "stream",
     "text": [
      "*c* argument looks like a single numeric RGB or RGBA sequence, which should be avoided as value-mapping will have precedence in case its length matches with *x* & *y*.  Please use the *color* keyword-argument or provide a 2-D array with a single row if you intend to specify the same RGB or RGBA value for all points.\n",
      "*c* argument looks like a single numeric RGB or RGBA sequence, which should be avoided as value-mapping will have precedence in case its length matches with *x* & *y*.  Please use the *color* keyword-argument or provide a 2-D array with a single row if you intend to specify the same RGB or RGBA value for all points.\n"
     ]
    },
    {
     "data": {
      "image/png": "[encoded data removed]",
      "text/plain": [
       "<Figure size 432x288 with 1 Axes>"
      ]
     },
     "metadata": {
      "needs_background": "light"
     },
     "output_type": "display_data"
    }
   ],
   "source": [
    "from matplotlib.colors import ListedColormap\n",
    "X_set, y_set = sc.inverse_transform(X_train), y_train\n",
    "X1, X2 = np.meshgrid(np.arange(start = X_set[:, 0].min() - 10, stop = X_set[:, 0].max() + 10, step = 0.25),\n",
    "                     np.arange(start = X_set[:, 1].min() - 1000, stop = X_set[:, 1].max() + 1000, step = 0.25))\n",
    "plt.contourf(X1, X2, classifier.predict(sc.transform(np.array([X1.ravel(), X2.ravel()]).T)).reshape(X1.shape),\n",
    "             alpha = 0.75, cmap = ListedColormap(('red', 'green')))\n",
    "plt.xlim(X1.min(), X1.max())\n",
    "plt.ylim(X2.min(), X2.max())\n",
    "for i, j in enumerate(np.unique(y_set)):\n",
    "    plt.scatter(X_set[y_set == j, 0], X_set[y_set == j, 1], c = ListedColormap(('red', 'green'))(i), label = j)\n",
    "plt.title('Decision Tree Classification (Training set)')\n",
    "plt.xlabel('Age')\n",
    "plt.ylabel('Estimated Salary')\n",
    "plt.legend()\n",
    "plt.show()"
   ]
  },
  {
   "cell_type": "markdown",
   "id": "d353d3bd",
   "metadata": {},
   "source": [
    "## Teste"
   ]
  },
  {
   "cell_type": "code",
   "execution_count": 234,
   "id": "4349a894",
   "metadata": {},
   "outputs": [
    {
     "name": "stderr",
     "output_type": "stream",
     "text": [
      "*c* argument looks like a single numeric RGB or RGBA sequence, which should be avoided as value-mapping will have precedence in case its length matches with *x* & *y*.  Please use the *color* keyword-argument or provide a 2-D array with a single row if you intend to specify the same RGB or RGBA value for all points.\n",
      "*c* argument looks like a single numeric RGB or RGBA sequence, which should be avoided as value-mapping will have precedence in case its length matches with *x* & *y*.  Please use the *color* keyword-argument or provide a 2-D array with a single row if you intend to specify the same RGB or RGBA value for all points.\n"
     ]
    },
    {
     "data": {
      "image/png": "[encoded data removed]",
      "text/plain": [
       "<Figure size 432x288 with 1 Axes>"
      ]
     },
     "metadata": {
      "needs_background": "light"
     },
     "output_type": "display_data"
    }
   ],
   "source": [
    "from matplotlib.colors import ListedColormap\n",
    "X_set, y_set = sc.inverse_transform(X_test), y_test\n",
    "X1, X2 = np.meshgrid(np.arange(start = X_set[:, 0].min() - 10, stop = X_set[:, 0].max() + 10, step = 0.25),\n",
    "                     np.arange(start = X_set[:, 1].min() - 1000, stop = X_set[:, 1].max() + 1000, step = 0.25))\n",
    "plt.contourf(X1, X2, classifier.predict(sc.transform(np.array([X1.ravel(), X2.ravel()]).T)).reshape(X1.shape),\n",
    "             alpha = 0.75, cmap = ListedColormap(('red', 'green')))\n",
    "plt.xlim(X1.min(), X1.max())\n",
    "plt.ylim(X2.min(), X2.max())\n",
    "for i, j in enumerate(np.unique(y_set)):\n",
    "    plt.scatter(X_set[y_set == j, 0], X_set[y_set == j, 1], c = ListedColormap(('red', 'green'))(i), label = j)\n",
    "plt.title('Decision Tree Classification (Test set)')\n",
    "plt.xlabel('Age')\n",
    "plt.ylabel('Estimated Salary')\n",
    "plt.legend()\n",
    "plt.show()"
   ]
  },
  {
   "cell_type": "markdown",
   "id": "8d6a54bc",
   "metadata": {},
   "source": [
    "## Vamos realizar os mesmos exercícios utilizando decision trees para verificar se melhora os resultados"
   ]
  },
  {
   "cell_type": "markdown",
   "id": "f0f10356",
   "metadata": {},
   "source": [
    "### Titanic"
   ]
  },
  {
   "cell_type": "code",
   "execution_count": 236,
   "id": "9ef66b3b",
   "metadata": {},
   "outputs": [],
   "source": [
    "# Import do dataset\n",
    "df_titanic = pd.read_csv('datasets/titanic.csv')"
   ]
  },
  {
   "cell_type": "code",
   "execution_count": 237,
   "id": "9c047ccf",
   "metadata": {},
   "outputs": [
    {
     "data": {
      "text/html": [
       "<div>\n",
       "<style scoped>\n",
       "    .dataframe tbody tr th:only-of-type {\n",
       "        vertical-align: middle;\n",
       "    }\n",
       "\n",
       "    .dataframe tbody tr th {\n",
       "        vertical-align: top;\n",
       "    }\n",
       "\n",
       "    .dataframe thead th {\n",
       "        text-align: right;\n",
       "    }\n",
       "</style>\n",
       "<table border=\"1\" class=\"dataframe\">\n",
       "  <thead>\n",
       "    <tr style=\"text-align: right;\">\n",
       "      <th></th>\n",
       "      <th>PassengerId</th>\n",
       "      <th>Name</th>\n",
       "      <th>Pclass</th>\n",
       "      <th>Sex</th>\n",
       "      <th>Age</th>\n",
       "      <th>SibSp</th>\n",
       "      <th>Parch</th>\n",
       "      <th>Ticket</th>\n",
       "      <th>Fare</th>\n",
       "      <th>Cabin</th>\n",
       "      <th>Embarked</th>\n",
       "      <th>Survived</th>\n",
       "    </tr>\n",
       "  </thead>\n",
       "  <tbody>\n",
       "    <tr>\n",
       "      <th>0</th>\n",
       "      <td>1</td>\n",
       "      <td>Braund, Mr. Owen Harris</td>\n",
       "      <td>3</td>\n",
       "      <td>male</td>\n",
       "      <td>22.0</td>\n",
       "      <td>1</td>\n",
       "      <td>0</td>\n",
       "      <td>A/5 21171</td>\n",
       "      <td>7.2500</td>\n",
       "      <td>NaN</td>\n",
       "      <td>S</td>\n",
       "      <td>0</td>\n",
       "    </tr>\n",
       "    <tr>\n",
       "      <th>1</th>\n",
       "      <td>2</td>\n",
       "      <td>Cumings, Mrs. John Bradley (Florence Briggs Th...</td>\n",
       "      <td>1</td>\n",
       "      <td>female</td>\n",
       "      <td>38.0</td>\n",
       "      <td>1</td>\n",
       "      <td>0</td>\n",
       "      <td>PC 17599</td>\n",
       "      <td>71.2833</td>\n",
       "      <td>C85</td>\n",
       "      <td>C</td>\n",
       "      <td>1</td>\n",
       "    </tr>\n",
       "    <tr>\n",
       "      <th>2</th>\n",
       "      <td>3</td>\n",
       "      <td>Heikkinen, Miss. Laina</td>\n",
       "      <td>3</td>\n",
       "      <td>female</td>\n",
       "      <td>26.0</td>\n",
       "      <td>0</td>\n",
       "      <td>0</td>\n",
       "      <td>STON/O2. 3101282</td>\n",
       "      <td>7.9250</td>\n",
       "      <td>NaN</td>\n",
       "      <td>S</td>\n",
       "      <td>1</td>\n",
       "    </tr>\n",
       "    <tr>\n",
       "      <th>3</th>\n",
       "      <td>4</td>\n",
       "      <td>Futrelle, Mrs. Jacques Heath (Lily May Peel)</td>\n",
       "      <td>1</td>\n",
       "      <td>female</td>\n",
       "      <td>35.0</td>\n",
       "      <td>1</td>\n",
       "      <td>0</td>\n",
       "      <td>113803</td>\n",
       "      <td>53.1000</td>\n",
       "      <td>C123</td>\n",
       "      <td>S</td>\n",
       "      <td>1</td>\n",
       "    </tr>\n",
       "    <tr>\n",
       "      <th>4</th>\n",
       "      <td>5</td>\n",
       "      <td>Allen, Mr. William Henry</td>\n",
       "      <td>3</td>\n",
       "      <td>male</td>\n",
       "      <td>35.0</td>\n",
       "      <td>0</td>\n",
       "      <td>0</td>\n",
       "      <td>373450</td>\n",
       "      <td>8.0500</td>\n",
       "      <td>NaN</td>\n",
       "      <td>S</td>\n",
       "      <td>0</td>\n",
       "    </tr>\n",
       "    <tr>\n",
       "      <th>...</th>\n",
       "      <td>...</td>\n",
       "      <td>...</td>\n",
       "      <td>...</td>\n",
       "      <td>...</td>\n",
       "      <td>...</td>\n",
       "      <td>...</td>\n",
       "      <td>...</td>\n",
       "      <td>...</td>\n",
       "      <td>...</td>\n",
       "      <td>...</td>\n",
       "      <td>...</td>\n",
       "      <td>...</td>\n",
       "    </tr>\n",
       "    <tr>\n",
       "      <th>886</th>\n",
       "      <td>887</td>\n",
       "      <td>Montvila, Rev. Juozas</td>\n",
       "      <td>2</td>\n",
       "      <td>male</td>\n",
       "      <td>27.0</td>\n",
       "      <td>0</td>\n",
       "      <td>0</td>\n",
       "      <td>211536</td>\n",
       "      <td>13.0000</td>\n",
       "      <td>NaN</td>\n",
       "      <td>S</td>\n",
       "      <td>0</td>\n",
       "    </tr>\n",
       "    <tr>\n",
       "      <th>887</th>\n",
       "      <td>888</td>\n",
       "      <td>Graham, Miss. Margaret Edith</td>\n",
       "      <td>1</td>\n",
       "      <td>female</td>\n",
       "      <td>19.0</td>\n",
       "      <td>0</td>\n",
       "      <td>0</td>\n",
       "      <td>112053</td>\n",
       "      <td>30.0000</td>\n",
       "      <td>B42</td>\n",
       "      <td>S</td>\n",
       "      <td>1</td>\n",
       "    </tr>\n",
       "    <tr>\n",
       "      <th>888</th>\n",
       "      <td>889</td>\n",
       "      <td>Johnston, Miss. Catherine Helen \"Carrie\"</td>\n",
       "      <td>3</td>\n",
       "      <td>female</td>\n",
       "      <td>NaN</td>\n",
       "      <td>1</td>\n",
       "      <td>2</td>\n",
       "      <td>W./C. 6607</td>\n",
       "      <td>23.4500</td>\n",
       "      <td>NaN</td>\n",
       "      <td>S</td>\n",
       "      <td>0</td>\n",
       "    </tr>\n",
       "    <tr>\n",
       "      <th>889</th>\n",
       "      <td>890</td>\n",
       "      <td>Behr, Mr. Karl Howell</td>\n",
       "      <td>1</td>\n",
       "      <td>male</td>\n",
       "      <td>26.0</td>\n",
       "      <td>0</td>\n",
       "      <td>0</td>\n",
       "      <td>111369</td>\n",
       "      <td>30.0000</td>\n",
       "      <td>C148</td>\n",
       "      <td>C</td>\n",
       "      <td>1</td>\n",
       "    </tr>\n",
       "    <tr>\n",
       "      <th>890</th>\n",
       "      <td>891</td>\n",
       "      <td>Dooley, Mr. Patrick</td>\n",
       "      <td>3</td>\n",
       "      <td>male</td>\n",
       "      <td>32.0</td>\n",
       "      <td>0</td>\n",
       "      <td>0</td>\n",
       "      <td>370376</td>\n",
       "      <td>7.7500</td>\n",
       "      <td>NaN</td>\n",
       "      <td>Q</td>\n",
       "      <td>0</td>\n",
       "    </tr>\n",
       "  </tbody>\n",
       "</table>\n",
       "<p>891 rows × 12 columns</p>\n",
       "</div>"
      ],
      "text/plain": [
       "     PassengerId                                               Name  Pclass  \\\n",
       "0              1                            Braund, Mr. Owen Harris       3   \n",
       "1              2  Cumings, Mrs. John Bradley (Florence Briggs Th...       1   \n",
       "2              3                             Heikkinen, Miss. Laina       3   \n",
       "3              4       Futrelle, Mrs. Jacques Heath (Lily May Peel)       1   \n",
       "4              5                           Allen, Mr. William Henry       3   \n",
       "..           ...                                                ...     ...   \n",
       "886          887                              Montvila, Rev. Juozas       2   \n",
       "887          888                       Graham, Miss. Margaret Edith       1   \n",
       "888          889           Johnston, Miss. Catherine Helen \"Carrie\"       3   \n",
       "889          890                              Behr, Mr. Karl Howell       1   \n",
       "890          891                                Dooley, Mr. Patrick       3   \n",
       "\n",
       "        Sex   Age  SibSp  Parch            Ticket     Fare Cabin Embarked  \\\n",
       "0      male  22.0      1      0         A/5 21171   7.2500   NaN        S   \n",
       "1    female  38.0      1      0          PC 17599  71.2833   C85        C   \n",
       "2    female  26.0      0      0  STON/O2. 3101282   7.9250   NaN        S   \n",
       "3    female  35.0      1      0            113803  53.1000  C123        S   \n",
       "4      male  35.0      0      0            373450   8.0500   NaN        S   \n",
       "..      ...   ...    ...    ...               ...      ...   ...      ...   \n",
       "886    male  27.0      0      0            211536  13.0000   NaN        S   \n",
       "887  female  19.0      0      0            112053  30.0000   B42        S   \n",
       "888  female   NaN      1      2        W./C. 6607  23.4500   NaN        S   \n",
       "889    male  26.0      0      0            111369  30.0000  C148        C   \n",
       "890    male  32.0      0      0            370376   7.7500   NaN        Q   \n",
       "\n",
       "     Survived  \n",
       "0           0  \n",
       "1           1  \n",
       "2           1  \n",
       "3           1  \n",
       "4           0  \n",
       "..        ...  \n",
       "886         0  \n",
       "887         1  \n",
       "888         0  \n",
       "889         1  \n",
       "890         0  \n",
       "\n",
       "[891 rows x 12 columns]"
      ]
     },
     "execution_count": 237,
     "metadata": {},
     "output_type": "execute_result"
    }
   ],
   "source": [
    "df_titanic"
   ]
  },
  {
   "cell_type": "code",
   "execution_count": null,
   "id": "51d4a2eb",
   "metadata": {},
   "outputs": [],
   "source": [
    "# Remoção de colunas não relevantes\n"
   ]
  },
  {
   "cell_type": "code",
   "execution_count": null,
   "id": "17a27ad7",
   "metadata": {},
   "outputs": [],
   "source": []
  },
  {
   "cell_type": "code",
   "execution_count": null,
   "id": "ebc1e8f4",
   "metadata": {},
   "outputs": [],
   "source": []
  },
  {
   "cell_type": "code",
   "execution_count": null,
   "id": "62d0cb8e",
   "metadata": {},
   "outputs": [],
   "source": []
  },
  {
   "cell_type": "code",
   "execution_count": null,
   "id": "282aabbd",
   "metadata": {},
   "outputs": [],
   "source": []
  },
  {
   "cell_type": "code",
   "execution_count": null,
   "id": "29ab5f48",
   "metadata": {},
   "outputs": [],
   "source": []
  },
  {
   "cell_type": "code",
   "execution_count": null,
   "id": "4399978a",
   "metadata": {},
   "outputs": [],
   "source": []
  },
  {
   "cell_type": "code",
   "execution_count": null,
   "id": "6170e654",
   "metadata": {},
   "outputs": [],
   "source": []
  },
  {
   "cell_type": "code",
   "execution_count": null,
   "id": "0c412859",
   "metadata": {},
   "outputs": [],
   "source": []
  },
  {
   "cell_type": "markdown",
   "id": "b314fca9",
   "metadata": {},
   "source": [
    "### Wine dataset"
   ]
  },
  {
   "cell_type": "code",
   "execution_count": null,
   "id": "1ac55b59",
   "metadata": {},
   "outputs": [],
   "source": []
  },
  {
   "cell_type": "code",
   "execution_count": null,
   "id": "9bfee389",
   "metadata": {},
   "outputs": [],
   "source": []
  },
  {
   "cell_type": "code",
   "execution_count": null,
   "id": "fad2941c",
   "metadata": {},
   "outputs": [],
   "source": []
  },
  {
   "cell_type": "markdown",
   "id": "28ab668a",
   "metadata": {},
   "source": [
    "## Regression trees com Boston Housing"
   ]
  },
  {
   "cell_type": "code",
   "execution_count": null,
   "id": "ea5732f6",
   "metadata": {},
   "outputs": [],
   "source": []
  },
  {
   "cell_type": "code",
   "execution_count": null,
   "id": "54240c55",
   "metadata": {},
   "outputs": [],
   "source": []
  },
  {
   "cell_type": "code",
   "execution_count": 1,
   "id": "9a365b41",
   "metadata": {},
   "outputs": [],
   "source": []
  },
  {
   "cell_type": "code",
   "execution_count": 14,
   "id": "6ab1d655",
   "metadata": {},
   "outputs": [],
   "source": []
  },
  {
   "cell_type": "code",
   "execution_count": null,
   "id": "6a7d0228",
   "metadata": {},
   "outputs": [],
   "source": []
  }
 ],
 "metadata": {
  "kernelspec": {
   "display_name": "Python 3 (ipykernel)",
   "language": "python",
   "name": "python3"
  },
  "language_info": {
   "codemirror_mode": {
    "name": "ipython",
    "version": 3
   },
   "file_extension": ".py",
   "mimetype": "text/x-python",
   "name": "python",
   "nbconvert_exporter": "python",
   "pygments_lexer": "ipython3",
   "version": "3.10.9"
  }
 },
 "nbformat": 4,
 "nbformat_minor": 5
}
