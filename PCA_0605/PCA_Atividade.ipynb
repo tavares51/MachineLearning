{
 "cells": [
  {
   "cell_type": "markdown",
   "id": "4b45edcb",
   "metadata": {},
   "source": [
    "# <center> <img src=\"figs/logo_facens.png\" alt=\"Logo Facens\" width=\"110\" align=\"left\"/>  <br/> <center>Facens<br/>\n",
    "</p>\n",
    "\n",
    "<br/>\n",
    "  \n",
    "<font size=\"3\"><center>Victor Hugo Soares Tavares, 171689</center></font>\n",
    "\n",
    "\n",
    "\n",
    "\n",
    "# Aprendizado de Máquinas\n",
    "### 2022PGS2M1\n",
    "----\n",
    "\n",
    "## <center> Atividade PCA </center>\n",
    "\n",
    "    \n",
    "Utilizando o dataset 'winequality-red.csv', que esta na pasta dataset do zip da aula de 06/05:\n",
    "\n",
    "Com a nossa classe PCA, criada em sala de aula, Explicar com grafico da variancia explicada, quantos componentes são necessários para 80% de variancia. Com o resultado, número de componentes para 80% de variancia, reduzir/projetar o dataset neste numero de componentes, dividir em treino e teste e aplicar o GaussianNB e printar os resultados com o Classification Report\n"
   ]
  },
  {
   "cell_type": "markdown",
   "id": "5ab7e2eb",
   "metadata": {},
   "source": [
    "## Importando Libs"
   ]
  },
  {
   "cell_type": "code",
   "execution_count": 25,
   "id": "a0ddaefa",
   "metadata": {},
   "outputs": [],
   "source": [
    "import numpy as np\n",
    "import pandas as pd\n",
    "import seaborn as sns\n",
    "import matplotlib.pyplot as plt\n",
    "from sklearn.metrics import confusion_matrix, accuracy_score, classification_report, precision_score, recall_score, \\\n",
    "                            f1_score, ConfusionMatrixDisplay\n",
    "from sklearn.model_selection import train_test_split\n",
    "from sklearn.preprocessing import LabelEncoder, StandardScaler\n",
    "from sklearn import datasets\n",
    "import random\n",
    "from sklearn.naive_bayes import GaussianNB"
   ]
  },
  {
   "cell_type": "markdown",
   "id": "63ca6fa6",
   "metadata": {},
   "source": [
    "### Criando Classe PCA"
   ]
  },
  {
   "cell_type": "markdown",
   "id": "846e153f",
   "metadata": {},
   "source": [
    "Com a nossa classe PCA, criada em sala de aula, Explicar com grafico da variancia explicada, quantos componentes são necessários para 80% de variancia."
   ]
  },
  {
   "cell_type": "code",
   "execution_count": 16,
   "id": "33adec54",
   "metadata": {},
   "outputs": [],
   "source": [
    "# Análise dos Componentes\n",
    "\n",
    "def component_analysis(e, plot='none'):\n",
    "    varexp = 100* e/e.sum()\n",
    "    cumvarexp = np.cumsum(varexp)\n",
    "\n",
    "    # Plotando os autovalores\n",
    "    if (plot=='eigen'):\n",
    "        plt.figure(figsize = (4,4))\n",
    "        plt.plot(e, '-o')\n",
    "        plt.grid(True)\n",
    "        plt.xlabel('Componente', fontsize = 15)\n",
    "        plt.ylabel('Autovalor', fontsize = 15)\n",
    "        xint = []\n",
    "        locs, labels = plt.xticks()\n",
    "        for each in locs:\n",
    "            xint.append(int(each))\n",
    "        plt.xticks(xint)\n",
    "\n",
    "    # Plotando a explicação da variancia\n",
    "    if (plot=='varexp'):\n",
    "        plt.figure(figsize = (4,4))\n",
    "        plt.plot(cumvarexp, '-o')\n",
    "        plt.xlabel('Componente', fontsize = 15)\n",
    "        plt.ylabel('% da variancia explicada', fontsize = 15)\n",
    "        plt.grid(True)\n",
    "        xint = []\n",
    "        locs, labels = plt.xticks()\n",
    "        for each in locs:\n",
    "            xint.append(int(each))\n",
    "        plt.xticks(xint)\n",
    "\n",
    "    plt.show()"
   ]
  },
  {
   "cell_type": "code",
   "execution_count": 3,
   "id": "9c9bc201",
   "metadata": {},
   "outputs": [],
   "source": [
    "#Initializing the PCA Class\n",
    "class PCA_C():\n",
    "\n",
    "    #Class responsible for the PCA initialization\n",
    "    def __init__(self, n_components=2, norm=False):\n",
    "        self.k = n_components\n",
    "        self.norm = norm\n",
    "    \n",
    "    # Normalizando os dados\n",
    "    def normaliza(self, X):\n",
    "        return (X-X.mean(axis=0)) / X.std(axis=0, ddof=1) \n",
    "    \n",
    "    def fit(self, X):\n",
    "        # Normalizar se necessário\n",
    "        if self.norm:\n",
    "            X_norm = X\n",
    "        else:\n",
    "            X_norm = self.normaliza(X)\n",
    "            \n",
    "        # Calculando a Matriz de covariancia\n",
    "        mat_cov = np.cov(X_norm.T)\n",
    "        \n",
    "        # SVD\n",
    "        self.U, self.S, self.VT = np.linalg.svd(mat_cov)\n",
    "        \n",
    "        # Selecionando os k primeiros componentes\n",
    "        self.princip_comp = self.U[:, :self.k]\n",
    "    \n",
    "    # Transformando os dados\n",
    "    def transform(self, A):\n",
    "        return A.dot(self.princip_comp)"
   ]
  },
  {
   "cell_type": "code",
   "execution_count": 8,
   "id": "f83901bd",
   "metadata": {},
   "outputs": [],
   "source": [
    "df = pd.read_csv('datasets/winequality-red.csv', sep=';')"
   ]
  },
  {
   "cell_type": "code",
   "execution_count": 9,
   "id": "e21daf1f",
   "metadata": {},
   "outputs": [
    {
     "data": {
      "text/html": [
       "<div>\n",
       "<style scoped>\n",
       "    .dataframe tbody tr th:only-of-type {\n",
       "        vertical-align: middle;\n",
       "    }\n",
       "\n",
       "    .dataframe tbody tr th {\n",
       "        vertical-align: top;\n",
       "    }\n",
       "\n",
       "    .dataframe thead th {\n",
       "        text-align: right;\n",
       "    }\n",
       "</style>\n",
       "<table border=\"1\" class=\"dataframe\">\n",
       "  <thead>\n",
       "    <tr style=\"text-align: right;\">\n",
       "      <th></th>\n",
       "      <th>fixed acidity</th>\n",
       "      <th>volatile acidity</th>\n",
       "      <th>citric acid</th>\n",
       "      <th>residual sugar</th>\n",
       "      <th>chlorides</th>\n",
       "      <th>free sulfur dioxide</th>\n",
       "      <th>total sulfur dioxide</th>\n",
       "      <th>density</th>\n",
       "      <th>pH</th>\n",
       "      <th>sulphates</th>\n",
       "      <th>alcohol</th>\n",
       "      <th>quality</th>\n",
       "    </tr>\n",
       "  </thead>\n",
       "  <tbody>\n",
       "    <tr>\n",
       "      <th>0</th>\n",
       "      <td>7.4</td>\n",
       "      <td>0.70</td>\n",
       "      <td>0.00</td>\n",
       "      <td>1.9</td>\n",
       "      <td>0.076</td>\n",
       "      <td>11.0</td>\n",
       "      <td>34.0</td>\n",
       "      <td>0.9978</td>\n",
       "      <td>3.51</td>\n",
       "      <td>0.56</td>\n",
       "      <td>9.4</td>\n",
       "      <td>5</td>\n",
       "    </tr>\n",
       "    <tr>\n",
       "      <th>1</th>\n",
       "      <td>7.8</td>\n",
       "      <td>0.88</td>\n",
       "      <td>0.00</td>\n",
       "      <td>2.6</td>\n",
       "      <td>0.098</td>\n",
       "      <td>25.0</td>\n",
       "      <td>67.0</td>\n",
       "      <td>0.9968</td>\n",
       "      <td>3.20</td>\n",
       "      <td>0.68</td>\n",
       "      <td>9.8</td>\n",
       "      <td>5</td>\n",
       "    </tr>\n",
       "    <tr>\n",
       "      <th>2</th>\n",
       "      <td>7.8</td>\n",
       "      <td>0.76</td>\n",
       "      <td>0.04</td>\n",
       "      <td>2.3</td>\n",
       "      <td>0.092</td>\n",
       "      <td>15.0</td>\n",
       "      <td>54.0</td>\n",
       "      <td>0.9970</td>\n",
       "      <td>3.26</td>\n",
       "      <td>0.65</td>\n",
       "      <td>9.8</td>\n",
       "      <td>5</td>\n",
       "    </tr>\n",
       "    <tr>\n",
       "      <th>3</th>\n",
       "      <td>11.2</td>\n",
       "      <td>0.28</td>\n",
       "      <td>0.56</td>\n",
       "      <td>1.9</td>\n",
       "      <td>0.075</td>\n",
       "      <td>17.0</td>\n",
       "      <td>60.0</td>\n",
       "      <td>0.9980</td>\n",
       "      <td>3.16</td>\n",
       "      <td>0.58</td>\n",
       "      <td>9.8</td>\n",
       "      <td>6</td>\n",
       "    </tr>\n",
       "    <tr>\n",
       "      <th>4</th>\n",
       "      <td>7.4</td>\n",
       "      <td>0.70</td>\n",
       "      <td>0.00</td>\n",
       "      <td>1.9</td>\n",
       "      <td>0.076</td>\n",
       "      <td>11.0</td>\n",
       "      <td>34.0</td>\n",
       "      <td>0.9978</td>\n",
       "      <td>3.51</td>\n",
       "      <td>0.56</td>\n",
       "      <td>9.4</td>\n",
       "      <td>5</td>\n",
       "    </tr>\n",
       "  </tbody>\n",
       "</table>\n",
       "</div>"
      ],
      "text/plain": [
       "   fixed acidity  volatile acidity  citric acid  residual sugar  chlorides  \\\n",
       "0            7.4              0.70         0.00             1.9      0.076   \n",
       "1            7.8              0.88         0.00             2.6      0.098   \n",
       "2            7.8              0.76         0.04             2.3      0.092   \n",
       "3           11.2              0.28         0.56             1.9      0.075   \n",
       "4            7.4              0.70         0.00             1.9      0.076   \n",
       "\n",
       "   free sulfur dioxide  total sulfur dioxide  density    pH  sulphates  \\\n",
       "0                 11.0                  34.0   0.9978  3.51       0.56   \n",
       "1                 25.0                  67.0   0.9968  3.20       0.68   \n",
       "2                 15.0                  54.0   0.9970  3.26       0.65   \n",
       "3                 17.0                  60.0   0.9980  3.16       0.58   \n",
       "4                 11.0                  34.0   0.9978  3.51       0.56   \n",
       "\n",
       "   alcohol  quality  \n",
       "0      9.4        5  \n",
       "1      9.8        5  \n",
       "2      9.8        5  \n",
       "3      9.8        6  \n",
       "4      9.4        5  "
      ]
     },
     "execution_count": 9,
     "metadata": {},
     "output_type": "execute_result"
    }
   ],
   "source": [
    "df.head()"
   ]
  },
  {
   "cell_type": "code",
   "execution_count": 10,
   "id": "9018158a",
   "metadata": {},
   "outputs": [],
   "source": [
    "pca_cust = PCA_C(2)"
   ]
  },
  {
   "cell_type": "code",
   "execution_count": 12,
   "id": "1a93bb5a",
   "metadata": {},
   "outputs": [],
   "source": [
    "X = df.iloc[:, 0:-1].values"
   ]
  },
  {
   "cell_type": "code",
   "execution_count": 13,
   "id": "5624ea7f",
   "metadata": {},
   "outputs": [],
   "source": [
    "pca_cust.fit(X)"
   ]
  },
  {
   "cell_type": "code",
   "execution_count": 14,
   "id": "b981b383",
   "metadata": {},
   "outputs": [
    {
     "data": {
      "text/plain": [
       "array([3.09913244, 1.92590969, 1.55054349, 1.21323253, 0.95929207,\n",
       "       0.65960826, 0.58379122, 0.4229567 , 0.34464212, 0.18133317,\n",
       "       0.05955831])"
      ]
     },
     "execution_count": 14,
     "metadata": {},
     "output_type": "execute_result"
    }
   ],
   "source": [
    "pca_cust.S"
   ]
  },
  {
   "cell_type": "code",
   "execution_count": 17,
   "id": "01bd868a",
   "metadata": {},
   "outputs": [
    {
     "data": {
      "image/png": "[encoded data removed]",
      "text/plain": [
       "<Figure size 400x400 with 1 Axes>"
      ]
     },
     "metadata": {},
     "output_type": "display_data"
    }
   ],
   "source": [
    "component_analysis(pca_cust.S, plot='varexp')"
   ]
  },
  {
   "cell_type": "code",
   "execution_count": 20,
   "id": "2ff69aa0",
   "metadata": {},
   "outputs": [],
   "source": [
    "pca_cust4 = PCA_C(4)\n",
    "pca_cust4.fit(X)"
   ]
  },
  {
   "cell_type": "code",
   "execution_count": 21,
   "id": "199beafd",
   "metadata": {},
   "outputs": [],
   "source": [
    "X_proj_cust = pca_cust4.transform(X)"
   ]
  },
  {
   "cell_type": "code",
   "execution_count": 22,
   "id": "51c8aa84",
   "metadata": {},
   "outputs": [],
   "source": [
    "y = df.iloc[:, -1].values"
   ]
  },
  {
   "cell_type": "code",
   "execution_count": 23,
   "id": "d771b3a7",
   "metadata": {},
   "outputs": [],
   "source": [
    "X_train_p, X_test_p, y_train_p, y_test_p = train_test_split(X_proj_cust, y, test_size=0.2, random_state=42)"
   ]
  },
  {
   "cell_type": "code",
   "execution_count": 26,
   "id": "7a465ab0",
   "metadata": {},
   "outputs": [
    {
     "data": {
      "text/html": [
       "<style>#sk-container-id-1 {color: black;background-color: white;}#sk-container-id-1 pre{padding: 0;}#sk-container-id-1 div.sk-toggleable {background-color: white;}#sk-container-id-1 label.sk-toggleable__label {cursor: pointer;display: block;width: 100%;margin-bottom: 0;padding: 0.3em;box-sizing: border-box;text-align: center;}#sk-container-id-1 label.sk-toggleable__label-arrow:before {content: \"▸\";float: left;margin-right: 0.25em;color: #696969;}#sk-container-id-1 label.sk-toggleable__label-arrow:hover:before {color: black;}#sk-container-id-1 div.sk-estimator:hover label.sk-toggleable__label-arrow:before {color: black;}#sk-container-id-1 div.sk-toggleable__content {max-height: 0;max-width: 0;overflow: hidden;text-align: left;background-color: #f0f8ff;}#sk-container-id-1 div.sk-toggleable__content pre {margin: 0.2em;color: black;border-radius: 0.25em;background-color: #f0f8ff;}#sk-container-id-1 input.sk-toggleable__control:checked~div.sk-toggleable__content {max-height: 200px;max-width: 100%;overflow: auto;}#sk-container-id-1 input.sk-toggleable__control:checked~label.sk-toggleable__label-arrow:before {content: \"▾\";}#sk-container-id-1 div.sk-estimator input.sk-toggleable__control:checked~label.sk-toggleable__label {background-color: #d4ebff;}#sk-container-id-1 div.sk-label input.sk-toggleable__control:checked~label.sk-toggleable__label {background-color: #d4ebff;}#sk-container-id-1 input.sk-hidden--visually {border: 0;clip: rect(1px 1px 1px 1px);clip: rect(1px, 1px, 1px, 1px);height: 1px;margin: -1px;overflow: hidden;padding: 0;position: absolute;width: 1px;}#sk-container-id-1 div.sk-estimator {font-family: monospace;background-color: #f0f8ff;border: 1px dotted black;border-radius: 0.25em;box-sizing: border-box;margin-bottom: 0.5em;}#sk-container-id-1 div.sk-estimator:hover {background-color: #d4ebff;}#sk-container-id-1 div.sk-parallel-item::after {content: \"\";width: 100%;border-bottom: 1px solid gray;flex-grow: 1;}#sk-container-id-1 div.sk-label:hover label.sk-toggleable__label {background-color: #d4ebff;}#sk-container-id-1 div.sk-serial::before {content: \"\";position: absolute;border-left: 1px solid gray;box-sizing: border-box;top: 0;bottom: 0;left: 50%;z-index: 0;}#sk-container-id-1 div.sk-serial {display: flex;flex-direction: column;align-items: center;background-color: white;padding-right: 0.2em;padding-left: 0.2em;position: relative;}#sk-container-id-1 div.sk-item {position: relative;z-index: 1;}#sk-container-id-1 div.sk-parallel {display: flex;align-items: stretch;justify-content: center;background-color: white;position: relative;}#sk-container-id-1 div.sk-item::before, #sk-container-id-1 div.sk-parallel-item::before {content: \"\";position: absolute;border-left: 1px solid gray;box-sizing: border-box;top: 0;bottom: 0;left: 50%;z-index: -1;}#sk-container-id-1 div.sk-parallel-item {display: flex;flex-direction: column;z-index: 1;position: relative;background-color: white;}#sk-container-id-1 div.sk-parallel-item:first-child::after {align-self: flex-end;width: 50%;}#sk-container-id-1 div.sk-parallel-item:last-child::after {align-self: flex-start;width: 50%;}#sk-container-id-1 div.sk-parallel-item:only-child::after {width: 0;}#sk-container-id-1 div.sk-dashed-wrapped {border: 1px dashed gray;margin: 0 0.4em 0.5em 0.4em;box-sizing: border-box;padding-bottom: 0.4em;background-color: white;}#sk-container-id-1 div.sk-label label {font-family: monospace;font-weight: bold;display: inline-block;line-height: 1.2em;}#sk-container-id-1 div.sk-label-container {text-align: center;}#sk-container-id-1 div.sk-container {/* jupyter's `normalize.less` sets `[hidden] { display: none; }` but bootstrap.min.css set `[hidden] { display: none !important; }` so we also need the `!important` here to be able to override the default hidden behavior on the sphinx rendered scikit-learn.org. See: https://github.com/scikit-learn/scikit-learn/issues/21755 */display: inline-block !important;position: relative;}#sk-container-id-1 div.sk-text-repr-fallback {display: none;}</style><div id=\"sk-container-id-1\" class=\"sk-top-container\"><div class=\"sk-text-repr-fallback\"><pre>GaussianNB()</pre><b>In a Jupyter environment, please rerun this cell to show the HTML representation or trust the notebook. <br />On GitHub, the HTML representation is unable to render, please try loading this page with nbviewer.org.</b></div><div class=\"sk-container\" hidden><div class=\"sk-item\"><div class=\"sk-estimator sk-toggleable\"><input class=\"sk-toggleable__control sk-hidden--visually\" id=\"sk-estimator-id-1\" type=\"checkbox\" checked><label for=\"sk-estimator-id-1\" class=\"sk-toggleable__label sk-toggleable__label-arrow\">GaussianNB</label><div class=\"sk-toggleable__content\"><pre>GaussianNB()</pre></div></div></div></div></div>"
      ],
      "text/plain": [
       "GaussianNB()"
      ]
     },
     "execution_count": 26,
     "metadata": {},
     "output_type": "execute_result"
    }
   ],
   "source": [
    "# GaussianNB\n",
    "gaussian = GaussianNB()\n",
    "gaussian.fit(X_train_p, y_train_p)"
   ]
  },
  {
   "cell_type": "code",
   "execution_count": 27,
   "id": "8f14f3c0",
   "metadata": {},
   "outputs": [
    {
     "name": "stdout",
     "output_type": "stream",
     "text": [
      "              precision    recall  f1-score   support\n",
      "\n",
      "           3       0.00      0.00      0.00         1\n",
      "           4       0.00      0.00      0.00        10\n",
      "           5       0.55      0.33      0.41       130\n",
      "           6       0.44      0.81      0.57       132\n",
      "           7       0.00      0.00      0.00        42\n",
      "           8       0.00      0.00      0.00         5\n",
      "\n",
      "    accuracy                           0.47       320\n",
      "   macro avg       0.17      0.19      0.16       320\n",
      "weighted avg       0.41      0.47      0.40       320\n",
      "\n"
     ]
    },
    {
     "name": "stderr",
     "output_type": "stream",
     "text": [
      "C:\\Users\\vhst1\\anaconda3\\lib\\site-packages\\sklearn\\metrics\\_classification.py:1344: UndefinedMetricWarning: Precision and F-score are ill-defined and being set to 0.0 in labels with no predicted samples. Use `zero_division` parameter to control this behavior.\n",
      "  _warn_prf(average, modifier, msg_start, len(result))\n",
      "C:\\Users\\vhst1\\anaconda3\\lib\\site-packages\\sklearn\\metrics\\_classification.py:1344: UndefinedMetricWarning: Precision and F-score are ill-defined and being set to 0.0 in labels with no predicted samples. Use `zero_division` parameter to control this behavior.\n",
      "  _warn_prf(average, modifier, msg_start, len(result))\n",
      "C:\\Users\\vhst1\\anaconda3\\lib\\site-packages\\sklearn\\metrics\\_classification.py:1344: UndefinedMetricWarning: Precision and F-score are ill-defined and being set to 0.0 in labels with no predicted samples. Use `zero_division` parameter to control this behavior.\n",
      "  _warn_prf(average, modifier, msg_start, len(result))\n"
     ]
    }
   ],
   "source": [
    "y_pred = gaussian.predict(X_test_p)\n",
    "print(classification_report(y_test_p, y_pred))"
   ]
  }
 ],
 "metadata": {
  "kernelspec": {
   "display_name": "Python 3 (ipykernel)",
   "language": "python",
   "name": "python3"
  },
  "language_info": {
   "codemirror_mode": {
    "name": "ipython",
    "version": 3
   },
   "file_extension": ".py",
   "mimetype": "text/x-python",
   "name": "python",
   "nbconvert_exporter": "python",
   "pygments_lexer": "ipython3",
   "version": "3.10.9"
  }
 },
 "nbformat": 4,
 "nbformat_minor": 5
}
